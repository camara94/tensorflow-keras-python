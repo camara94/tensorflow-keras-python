{
 "cells": [
  {
   "cell_type": "markdown",
   "id": "68ecd555",
   "metadata": {},
   "source": [
    "# Les fonctions d'activation en deep learning"
   ]
  },
  {
   "cell_type": "markdown",
   "id": "6a1bcc8b",
   "metadata": {},
   "source": [
    "## Sigmoïd"
   ]
  },
  {
   "cell_type": "code",
   "execution_count": 2,
   "id": "9fe8a0af",
   "metadata": {},
   "outputs": [],
   "source": [
    "import math as mt\n",
    "import numpy as np"
   ]
  },
  {
   "cell_type": "code",
   "execution_count": 39,
   "id": "62ced099",
   "metadata": {},
   "outputs": [],
   "source": [
    "sigmoid = lambda y: 1/(1+np.exp(-y))"
   ]
  },
  {
   "cell_type": "code",
   "execution_count": 40,
   "id": "b577ca6a",
   "metadata": {},
   "outputs": [
    {
     "data": {
      "text/plain": [
       "1.0"
      ]
     },
     "execution_count": 40,
     "metadata": {},
     "output_type": "execute_result"
    }
   ],
   "source": [
    "sigmoid(200)"
   ]
  },
  {
   "cell_type": "code",
   "execution_count": 41,
   "id": "fa9e0a5b",
   "metadata": {},
   "outputs": [
    {
     "data": {
      "text/plain": [
       "1.3838965267367376e-87"
      ]
     },
     "execution_count": 41,
     "metadata": {},
     "output_type": "execute_result"
    }
   ],
   "source": [
    "sigmoid(-200)"
   ]
  },
  {
   "cell_type": "code",
   "execution_count": 42,
   "id": "756742f4",
   "metadata": {},
   "outputs": [
    {
     "data": {
      "text/plain": [
       "0.8807970779778823"
      ]
     },
     "execution_count": 42,
     "metadata": {},
     "output_type": "execute_result"
    }
   ],
   "source": [
    "sigmoid(2)"
   ]
  },
  {
   "cell_type": "code",
   "execution_count": 43,
   "id": "85858300",
   "metadata": {},
   "outputs": [],
   "source": [
    "import matplotlib.pyplot as plt"
   ]
  },
  {
   "cell_type": "code",
   "execution_count": 53,
   "id": "43970a7a",
   "metadata": {},
   "outputs": [
    {
     "name": "stderr",
     "output_type": "stream",
     "text": [
      "<ipython-input-39-e4d775f2456b>:1: RuntimeWarning: overflow encountered in exp\n",
      "  sigmoid = lambda y: 1/(1+np.exp(-y))\n"
     ]
    },
    {
     "data": {
      "text/plain": [
       "[<matplotlib.lines.Line2D at 0x22600027b80>]"
      ]
     },
     "execution_count": 53,
     "metadata": {},
     "output_type": "execute_result"
    },
    {
     "data": {
      "image/png": "[encoded data removed]",
      "text/plain": [
       "<Figure size 432x288 with 1 Axes>"
      ]
     },
     "metadata": {
      "needs_background": "light"
     },
     "output_type": "display_data"
    }
   ],
   "source": [
    "x=np.arange(-10000, 10000, 1)\n",
    "y = [sigmoid(i) for i in x]\n",
    "\n",
    "plt.title(\"La fonction sigmoïd\")\n",
    "plt.plot(x, y)"
   ]
  },
  {
   "cell_type": "markdown",
   "id": "283df42f",
   "metadata": {},
   "source": [
    "## La fonction tanh"
   ]
  },
  {
   "cell_type": "code",
   "execution_count": 54,
   "id": "da5f8902",
   "metadata": {},
   "outputs": [],
   "source": [
    "tanh = lambda y: (np.exp(y)-np.exp(-y))/(np.exp(y)+np.exp(-y))"
   ]
  },
  {
   "cell_type": "code",
   "execution_count": 55,
   "id": "e51fc4ad",
   "metadata": {},
   "outputs": [
    {
     "data": {
      "text/plain": [
       "-1.0"
      ]
     },
     "execution_count": 55,
     "metadata": {},
     "output_type": "execute_result"
    }
   ],
   "source": [
    "tanh(-56)"
   ]
  },
  {
   "cell_type": "code",
   "execution_count": 56,
   "id": "7e4b78fe",
   "metadata": {},
   "outputs": [
    {
     "name": "stderr",
     "output_type": "stream",
     "text": [
      "<ipython-input-54-5bd75e6fc5af>:1: RuntimeWarning: overflow encountered in exp\n",
      "  tanh = lambda y: (np.exp(y)-np.exp(-y))/(np.exp(y)+np.exp(-y))\n",
      "<ipython-input-54-5bd75e6fc5af>:1: RuntimeWarning: invalid value encountered in double_scalars\n",
      "  tanh = lambda y: (np.exp(y)-np.exp(-y))/(np.exp(y)+np.exp(-y))\n"
     ]
    }
   ],
   "source": [
    "y2 = [tanh(i) for i in x]"
   ]
  },
  {
   "cell_type": "code",
   "execution_count": 57,
   "id": "5cd8c7d9",
   "metadata": {},
   "outputs": [
    {
     "data": {
      "text/plain": [
       "[<matplotlib.lines.Line2D at 0x2266a29bbb0>]"
      ]
     },
     "execution_count": 57,
     "metadata": {},
     "output_type": "execute_result"
    },
    {
     "data": {
      "image/png": "[encoded data removed]",
      "text/plain": [
       "<Figure size 432x288 with 1 Axes>"
      ]
     },
     "metadata": {
      "needs_background": "light"
     },
     "output_type": "display_data"
    }
   ],
   "source": [
    "plt.title(\"La fonction tanh\")\n",
    "plt.plot(x, y2)"
   ]
  },
  {
   "cell_type": "markdown",
   "id": "d05b1a06",
   "metadata": {},
   "source": [
    "## La fonction relu"
   ]
  },
  {
   "cell_type": "code",
   "execution_count": 69,
   "id": "994dac74",
   "metadata": {},
   "outputs": [],
   "source": [
    "relu = lambda y: max(0, y)"
   ]
  },
  {
   "cell_type": "code",
   "execution_count": 74,
   "id": "4d2a07ab",
   "metadata": {},
   "outputs": [],
   "source": [
    "y3 = [relu(i) for i in x]"
   ]
  },
  {
   "cell_type": "code",
   "execution_count": 75,
   "id": "0c8d464d",
   "metadata": {},
   "outputs": [
    {
     "data": {
      "text/plain": [
       "[<matplotlib.lines.Line2D at 0x226000e0c40>]"
      ]
     },
     "execution_count": 75,
     "metadata": {},
     "output_type": "execute_result"
    },
    {
     "data": {
      "image/png": "[encoded data removed]",
      "text/plain": [
       "<Figure size 432x288 with 1 Axes>"
      ]
     },
     "metadata": {
      "needs_background": "light"
     },
     "output_type": "display_data"
    }
   ],
   "source": [
    "plt.title(\"La fonction relu\")\n",
    "plt.plot(x, y3)"
   ]
  },
  {
   "cell_type": "markdown",
   "id": "bedb2b94",
   "metadata": {},
   "source": [
    "## La fonction leaky_relu"
   ]
  },
  {
   "cell_type": "code",
   "execution_count": 76,
   "id": "a66add64",
   "metadata": {},
   "outputs": [],
   "source": [
    "leaky_relu = lambda y: max(0.1*y, y)"
   ]
  },
  {
   "cell_type": "code",
   "execution_count": 77,
   "id": "db52aeaa",
   "metadata": {},
   "outputs": [
    {
     "data": {
      "text/plain": [
       "85"
      ]
     },
     "execution_count": 77,
     "metadata": {},
     "output_type": "execute_result"
    }
   ],
   "source": [
    "leaky_relu(85)"
   ]
  },
  {
   "cell_type": "code",
   "execution_count": 78,
   "id": "1eeb1539",
   "metadata": {},
   "outputs": [
    {
     "data": {
      "text/plain": [
       "-89.5"
      ]
     },
     "execution_count": 78,
     "metadata": {},
     "output_type": "execute_result"
    }
   ],
   "source": [
    "leaky_relu(-895)"
   ]
  },
  {
   "cell_type": "code",
   "execution_count": 79,
   "id": "40e1faf7",
   "metadata": {},
   "outputs": [],
   "source": [
    "y4 = [leaky_relu(i) for i in x]"
   ]
  },
  {
   "cell_type": "code",
   "execution_count": 80,
   "id": "156f816a",
   "metadata": {},
   "outputs": [
    {
     "data": {
      "text/plain": [
       "[<matplotlib.lines.Line2D at 0x2260050ce20>]"
      ]
     },
     "execution_count": 80,
     "metadata": {},
     "output_type": "execute_result"
    },
    {
     "data": {
      "image/png": "[encoded data removed]",
      "text/plain": [
       "<Figure size 432x288 with 1 Axes>"
      ]
     },
     "metadata": {
      "needs_background": "light"
     },
     "output_type": "display_data"
    }
   ],
   "source": [
    "plt.title(\"La fonction leaky relu\")\n",
    "plt.plot(x, y4)"
   ]
  },
  {
   "cell_type": "code",
   "execution_count": null,
   "id": "75555649",
   "metadata": {},
   "outputs": [],
   "source": []
  }
 ],
 "metadata": {
  "kernelspec": {
   "display_name": "Python 3",
   "language": "python",
   "name": "python3"
  },
  "language_info": {
   "codemirror_mode": {
    "name": "ipython",
    "version": 3
   },
   "file_extension": ".py",
   "mimetype": "text/x-python",
   "name": "python",
   "nbconvert_exporter": "python",
   "pygments_lexer": "ipython3",
   "version": "3.8.5"
  }
 },
 "nbformat": 4,
 "nbformat_minor": 5
}
