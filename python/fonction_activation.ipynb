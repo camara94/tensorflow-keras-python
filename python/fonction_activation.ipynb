{
 "cells": [
  {
   "cell_type": "markdown",
   "id": "9ead9ccd",
   "metadata": {},
   "source": [
    "# Les fonctions d'activation en deep learning"
   ]
  },
  {
   "cell_type": "markdown",
   "id": "373ea73d",
   "metadata": {},
   "source": [
    "## Sigmoïd"
   ]
  },
  {
   "cell_type": "code",
   "execution_count": 2,
   "id": "fc989527",
   "metadata": {},
   "outputs": [],
   "source": [
    "import math as mt\n",
    "import numpy as np"
   ]
  },
  {
   "cell_type": "code",
   "execution_count": 39,
   "id": "e505712c",
   "metadata": {},
   "outputs": [],
   "source": [
    "sigmoid = lambda y: 1/(1+np.exp(-y))"
   ]
  },
  {
   "cell_type": "code",
   "execution_count": 40,
   "id": "d4388084",
   "metadata": {},
   "outputs": [
    {
     "data": {
      "text/plain": [
       "1.0"
      ]
     },
     "execution_count": 40,
     "metadata": {},
     "output_type": "execute_result"
    }
   ],
   "source": [
    "sigmoid(200)"
   ]
  },
  {
   "cell_type": "code",
   "execution_count": 41,
   "id": "0a7e81b8",
   "metadata": {},
   "outputs": [
    {
     "data": {
      "text/plain": [
       "1.3838965267367376e-87"
      ]
     },
     "execution_count": 41,
     "metadata": {},
     "output_type": "execute_result"
    }
   ],
   "source": [
    "sigmoid(-200)"
   ]
  },
  {
   "cell_type": "code",
   "execution_count": 42,
   "id": "0cf370dc",
   "metadata": {},
   "outputs": [
    {
     "data": {
      "text/plain": [
       "0.8807970779778823"
      ]
     },
     "execution_count": 42,
     "metadata": {},
     "output_type": "execute_result"
    }
   ],
   "source": [
    "sigmoid(2)"
   ]
  },
  {
   "cell_type": "code",
   "execution_count": 43,
   "id": "5b294671",
   "metadata": {},
   "outputs": [],
   "source": [
    "import matplotlib.pyplot as plt"
   ]
  },
  {
   "cell_type": "code",
   "execution_count": null,
   "id": "80bae177",
   "metadata": {},
   "outputs": [
    {
     "name": "stderr",
     "output_type": "stream",
     "text": [
      "<ipython-input-39-e4d775f2456b>:1: RuntimeWarning: overflow encountered in exp\n",
      "  sigmoid = lambda y: 1/(1+np.exp(-y))\n"
     ]
    }
   ],
   "source": [
    "x=np.arange(-10000, 10000, 0.01)\n",
    "y = [sigmoid(i) for i in x]\n",
    "\n",
    "plt.plot(x, y)"
   ]
  },
  {
   "cell_type": "code",
   "execution_count": null,
   "id": "64e70ece",
   "metadata": {},
   "outputs": [],
   "source": [
    "sigmoid(-1000)"
   ]
  },
  {
   "cell_type": "code",
   "execution_count": null,
   "id": "73cc2f78",
   "metadata": {},
   "outputs": [],
   "source": []
  },
  {
   "cell_type": "code",
   "execution_count": null,
   "id": "36c86071",
   "metadata": {},
   "outputs": [],
   "source": []
  }
 ],
 "metadata": {
  "kernelspec": {
   "display_name": "Python 3",
   "language": "python",
   "name": "python3"
  },
  "language_info": {
   "codemirror_mode": {
    "name": "ipython",
    "version": 3
   },
   "file_extension": ".py",
   "mimetype": "text/x-python",
   "name": "python",
   "nbconvert_exporter": "python",
   "pygments_lexer": "ipython3",
   "version": "3.8.5"
  }
 },
 "nbformat": 4,
 "nbformat_minor": 5
}
