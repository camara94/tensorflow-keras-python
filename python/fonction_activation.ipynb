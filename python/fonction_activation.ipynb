{
 "cells": [
  {
   "cell_type": "markdown",
   "id": "692aa427",
   "metadata": {},
   "source": [
    "# Les fonctions d'activation en deep learning"
   ]
  },
  {
   "cell_type": "markdown",
   "id": "d01fae30",
   "metadata": {},
   "source": [
    "## Sigmoïd"
   ]
  },
  {
   "cell_type": "code",
   "execution_count": 2,
   "id": "1fa68476",
   "metadata": {},
   "outputs": [],
   "source": [
    "import math as mt\n",
    "import numpy as np"
   ]
  },
  {
   "cell_type": "code",
   "execution_count": 39,
   "id": "c460667d",
   "metadata": {},
   "outputs": [],
   "source": [
    "sigmoid = lambda y: 1/(1+np.exp(-y))"
   ]
  },
  {
   "cell_type": "code",
   "execution_count": 40,
   "id": "eaee3894",
   "metadata": {},
   "outputs": [
    {
     "data": {
      "text/plain": [
       "1.0"
      ]
     },
     "execution_count": 40,
     "metadata": {},
     "output_type": "execute_result"
    }
   ],
   "source": [
    "sigmoid(200)"
   ]
  },
  {
   "cell_type": "code",
   "execution_count": 41,
   "id": "6fb41b7f",
   "metadata": {},
   "outputs": [
    {
     "data": {
      "text/plain": [
       "1.3838965267367376e-87"
      ]
     },
     "execution_count": 41,
     "metadata": {},
     "output_type": "execute_result"
    }
   ],
   "source": [
    "sigmoid(-200)"
   ]
  },
  {
   "cell_type": "code",
   "execution_count": 42,
   "id": "026f0045",
   "metadata": {},
   "outputs": [
    {
     "data": {
      "text/plain": [
       "0.8807970779778823"
      ]
     },
     "execution_count": 42,
     "metadata": {},
     "output_type": "execute_result"
    }
   ],
   "source": [
    "sigmoid(2)"
   ]
  },
  {
   "cell_type": "code",
   "execution_count": 43,
   "id": "2e05f32a",
   "metadata": {},
   "outputs": [],
   "source": [
    "import matplotlib.pyplot as plt"
   ]
  },
  {
   "cell_type": "code",
   "execution_count": 53,
   "id": "30c6b788",
   "metadata": {},
   "outputs": [
    {
     "name": "stderr",
     "output_type": "stream",
     "text": [
      "<ipython-input-39-e4d775f2456b>:1: RuntimeWarning: overflow encountered in exp\n",
      "  sigmoid = lambda y: 1/(1+np.exp(-y))\n"
     ]
    },
    {
     "data": {
      "text/plain": [
       "[<matplotlib.lines.Line2D at 0x22600027b80>]"
      ]
     },
     "execution_count": 53,
     "metadata": {},
     "output_type": "execute_result"
    },
    {
     "data": {
      "image/png": "[encoded data removed]",
      "text/plain": [
       "<Figure size 432x288 with 1 Axes>"
      ]
     },
     "metadata": {
      "needs_background": "light"
     },
     "output_type": "display_data"
    }
   ],
   "source": [
    "x=np.arange(-10000, 10000, 1)\n",
    "y = [sigmoid(i) for i in x]\n",
    "\n",
    "plt.title(\"La fonction sigmoïd\")\n",
    "plt.plot(x, y)"
   ]
  },
  {
   "cell_type": "markdown",
   "id": "fb771da6",
   "metadata": {},
   "source": [
    "## La fonction tanh"
   ]
  },
  {
   "cell_type": "code",
   "execution_count": 54,
   "id": "48ce3089",
   "metadata": {},
   "outputs": [],
   "source": [
    "tanh = lambda y: (np.exp(y)-np.exp(-y))/(np.exp(y)+np.exp(-y))"
   ]
  },
  {
   "cell_type": "code",
   "execution_count": 55,
   "id": "0da20611",
   "metadata": {},
   "outputs": [
    {
     "data": {
      "text/plain": [
       "-1.0"
      ]
     },
     "execution_count": 55,
     "metadata": {},
     "output_type": "execute_result"
    }
   ],
   "source": [
    "tanh(-56)"
   ]
  },
  {
   "cell_type": "code",
   "execution_count": 56,
   "id": "6c41c1ab",
   "metadata": {},
   "outputs": [
    {
     "name": "stderr",
     "output_type": "stream",
     "text": [
      "<ipython-input-54-5bd75e6fc5af>:1: RuntimeWarning: overflow encountered in exp\n",
      "  tanh = lambda y: (np.exp(y)-np.exp(-y))/(np.exp(y)+np.exp(-y))\n",
      "<ipython-input-54-5bd75e6fc5af>:1: RuntimeWarning: invalid value encountered in double_scalars\n",
      "  tanh = lambda y: (np.exp(y)-np.exp(-y))/(np.exp(y)+np.exp(-y))\n"
     ]
    }
   ],
   "source": [
    "y2 = [tanh(i) for i in x]"
   ]
  },
  {
   "cell_type": "code",
   "execution_count": 57,
   "id": "bb787d89",
   "metadata": {},
   "outputs": [
    {
     "data": {
      "text/plain": [
       "[<matplotlib.lines.Line2D at 0x2266a29bbb0>]"
      ]
     },
     "execution_count": 57,
     "metadata": {},
     "output_type": "execute_result"
    },
    {
     "data": {
      "image/png": "[encoded data removed]",
      "text/plain": [
       "<Figure size 432x288 with 1 Axes>"
      ]
     },
     "metadata": {
      "needs_background": "light"
     },
     "output_type": "display_data"
    }
   ],
   "source": [
    "plt.title(\"La fonction tanh\")\n",
    "plt.plot(x, y2)"
   ]
  },
  {
   "cell_type": "markdown",
   "id": "097831f6",
   "metadata": {},
   "source": [
    "## La fonction relu"
   ]
  },
  {
   "cell_type": "code",
   "execution_count": 69,
   "id": "38603823",
   "metadata": {},
   "outputs": [],
   "source": [
    "relu = lambda y: max(0, y)"
   ]
  },
  {
   "cell_type": "code",
   "execution_count": 74,
   "id": "13781fc3",
   "metadata": {},
   "outputs": [],
   "source": [
    "y3 = [relu(i) for i in x]"
   ]
  },
  {
   "cell_type": "code",
   "execution_count": 75,
   "id": "478c043a",
   "metadata": {},
   "outputs": [
    {
     "data": {
      "text/plain": [
       "[<matplotlib.lines.Line2D at 0x226000e0c40>]"
      ]
     },
     "execution_count": 75,
     "metadata": {},
     "output_type": "execute_result"
    },
    {
     "data": {
      "image/png": "[encoded data removed]",
      "text/plain": [
       "<Figure size 432x288 with 1 Axes>"
      ]
     },
     "metadata": {
      "needs_background": "light"
     },
     "output_type": "display_data"
    }
   ],
   "source": [
    "plt.title(\"La fonction relu\")\n",
    "plt.plot(x, y3)"
   ]
  },
  {
   "cell_type": "code",
   "execution_count": null,
   "id": "dff4a8e3",
   "metadata": {},
   "outputs": [],
   "source": []
  }
 ],
 "metadata": {
  "kernelspec": {
   "display_name": "Python 3",
   "language": "python",
   "name": "python3"
  },
  "language_info": {
   "codemirror_mode": {
    "name": "ipython",
    "version": 3
   },
   "file_extension": ".py",
   "mimetype": "text/x-python",
   "name": "python",
   "nbconvert_exporter": "python",
   "pygments_lexer": "ipython3",
   "version": "3.8.5"
  }
 },
 "nbformat": 4,
 "nbformat_minor": 5
}
