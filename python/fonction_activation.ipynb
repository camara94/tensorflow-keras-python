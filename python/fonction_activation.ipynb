{
 "cells": [
  {
   "cell_type": "markdown",
   "id": "89874503",
   "metadata": {},
   "source": [
    "# Les fonctions d'activation en deep learning"
   ]
  },
  {
   "cell_type": "markdown",
   "id": "0e6f1099",
   "metadata": {},
   "source": [
    "## Sigmoïd"
   ]
  },
  {
   "cell_type": "code",
   "execution_count": 2,
   "id": "9f2c181a",
   "metadata": {},
   "outputs": [],
   "source": [
    "import math as mt\n",
    "import numpy as np"
   ]
  },
  {
   "cell_type": "code",
   "execution_count": 39,
   "id": "6f177c08",
   "metadata": {},
   "outputs": [],
   "source": [
    "sigmoid = lambda y: 1/(1+np.exp(-y))"
   ]
  },
  {
   "cell_type": "code",
   "execution_count": 40,
   "id": "a5b4fe54",
   "metadata": {},
   "outputs": [
    {
     "data": {
      "text/plain": [
       "1.0"
      ]
     },
     "execution_count": 40,
     "metadata": {},
     "output_type": "execute_result"
    }
   ],
   "source": [
    "sigmoid(200)"
   ]
  },
  {
   "cell_type": "code",
   "execution_count": 41,
   "id": "391f57b2",
   "metadata": {},
   "outputs": [
    {
     "data": {
      "text/plain": [
       "1.3838965267367376e-87"
      ]
     },
     "execution_count": 41,
     "metadata": {},
     "output_type": "execute_result"
    }
   ],
   "source": [
    "sigmoid(-200)"
   ]
  },
  {
   "cell_type": "code",
   "execution_count": 42,
   "id": "7b65469a",
   "metadata": {},
   "outputs": [
    {
     "data": {
      "text/plain": [
       "0.8807970779778823"
      ]
     },
     "execution_count": 42,
     "metadata": {},
     "output_type": "execute_result"
    }
   ],
   "source": [
    "sigmoid(2)"
   ]
  },
  {
   "cell_type": "code",
   "execution_count": 43,
   "id": "f8c4115d",
   "metadata": {},
   "outputs": [],
   "source": [
    "import matplotlib.pyplot as plt"
   ]
  },
  {
   "cell_type": "code",
   "execution_count": 53,
   "id": "efdbb076",
   "metadata": {},
   "outputs": [
    {
     "name": "stderr",
     "output_type": "stream",
     "text": [
      "<ipython-input-39-e4d775f2456b>:1: RuntimeWarning: overflow encountered in exp\n",
      "  sigmoid = lambda y: 1/(1+np.exp(-y))\n"
     ]
    },
    {
     "data": {
      "text/plain": [
       "[<matplotlib.lines.Line2D at 0x22600027b80>]"
      ]
     },
     "execution_count": 53,
     "metadata": {},
     "output_type": "execute_result"
    },
    {
     "data": {
      "image/png": "[encoded data removed]",
      "text/plain": [
       "<Figure size 432x288 with 1 Axes>"
      ]
     },
     "metadata": {
      "needs_background": "light"
     },
     "output_type": "display_data"
    }
   ],
   "source": [
    "x=np.arange(-10000, 10000, 1)\n",
    "y = [sigmoid(i) for i in x]\n",
    "\n",
    "plt.title(\"La fonction sigmoïd\")\n",
    "plt.plot(x, y)"
   ]
  },
  {
   "cell_type": "markdown",
   "id": "f1f849c6",
   "metadata": {},
   "source": [
    "## La fonction tanh"
   ]
  },
  {
   "cell_type": "code",
   "execution_count": 54,
   "id": "e5e72665",
   "metadata": {},
   "outputs": [],
   "source": [
    "tanh = lambda y: (np.exp(y)-np.exp(-y))/(np.exp(y)+np.exp(-y))"
   ]
  },
  {
   "cell_type": "code",
   "execution_count": 55,
   "id": "407e08f3",
   "metadata": {},
   "outputs": [
    {
     "data": {
      "text/plain": [
       "-1.0"
      ]
     },
     "execution_count": 55,
     "metadata": {},
     "output_type": "execute_result"
    }
   ],
   "source": [
    "tanh(-56)"
   ]
  },
  {
   "cell_type": "code",
   "execution_count": null,
   "id": "aed35baf",
   "metadata": {},
   "outputs": [],
   "source": []
  }
 ],
 "metadata": {
  "kernelspec": {
   "display_name": "Python 3",
   "language": "python",
   "name": "python3"
  },
  "language_info": {
   "codemirror_mode": {
    "name": "ipython",
    "version": 3
   },
   "file_extension": ".py",
   "mimetype": "text/x-python",
   "name": "python",
   "nbconvert_exporter": "python",
   "pygments_lexer": "ipython3",
   "version": "3.8.5"
  }
 },
 "nbformat": 4,
 "nbformat_minor": 5
}
