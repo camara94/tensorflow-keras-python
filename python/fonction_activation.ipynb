{
 "cells": [
  {
   "cell_type": "markdown",
   "id": "77c0f600",
   "metadata": {},
   "source": [
    "# Les fonctions d'activation en deep learning"
   ]
  },
  {
   "cell_type": "markdown",
   "id": "439db3da",
   "metadata": {},
   "source": [
    "## Sigmoïd"
   ]
  },
  {
   "cell_type": "code",
   "execution_count": 2,
   "id": "b89662c2",
   "metadata": {},
   "outputs": [],
   "source": [
    "import math as mt\n",
    "import numpy as np"
   ]
  },
  {
   "cell_type": "code",
   "execution_count": 3,
   "id": "0ff35fb7",
   "metadata": {},
   "outputs": [],
   "source": [
    "sigmoid = lambda y: 1/mt.exp(-y)"
   ]
  },
  {
   "cell_type": "code",
   "execution_count": 4,
   "id": "5a5f17fb",
   "metadata": {},
   "outputs": [
    {
     "data": {
      "text/plain": [
       "7.225973768125749e+86"
      ]
     },
     "execution_count": 4,
     "metadata": {},
     "output_type": "execute_result"
    }
   ],
   "source": [
    "sigmoid(200)"
   ]
  },
  {
   "cell_type": "code",
   "execution_count": 5,
   "id": "122353e5",
   "metadata": {},
   "outputs": [
    {
     "data": {
      "text/plain": [
       "1.3838965267367376e-87"
      ]
     },
     "execution_count": 5,
     "metadata": {},
     "output_type": "execute_result"
    }
   ],
   "source": [
    "sigmoid(-200)"
   ]
  },
  {
   "cell_type": "code",
   "execution_count": null,
   "id": "e62083f5",
   "metadata": {},
   "outputs": [],
   "source": [
    "s"
   ]
  }
 ],
 "metadata": {
  "kernelspec": {
   "display_name": "Python 3",
   "language": "python",
   "name": "python3"
  },
  "language_info": {
   "codemirror_mode": {
    "name": "ipython",
    "version": 3
   },
   "file_extension": ".py",
   "mimetype": "text/x-python",
   "name": "python",
   "nbconvert_exporter": "python",
   "pygments_lexer": "ipython3",
   "version": "3.8.5"
  }
 },
 "nbformat": 4,
 "nbformat_minor": 5
}
