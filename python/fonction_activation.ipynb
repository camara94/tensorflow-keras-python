{
 "cells": [
  {
   "cell_type": "markdown",
   "id": "c2b82d9d",
   "metadata": {},
   "source": [
    "# Les fonctions d'activation en deep learning"
   ]
  },
  {
   "cell_type": "markdown",
   "id": "a2f17a6e",
   "metadata": {},
   "source": [
    "## Sigmoïd"
   ]
  },
  {
   "cell_type": "code",
   "execution_count": 2,
   "id": "6a91df8f",
   "metadata": {},
   "outputs": [],
   "source": [
    "import math as mt\n",
    "import numpy as np"
   ]
  },
  {
   "cell_type": "code",
   "execution_count": 39,
   "id": "ef6e045d",
   "metadata": {},
   "outputs": [],
   "source": [
    "sigmoid = lambda y: 1/(1+np.exp(-y))"
   ]
  },
  {
   "cell_type": "code",
   "execution_count": 40,
   "id": "d5d89bf0",
   "metadata": {},
   "outputs": [
    {
     "data": {
      "text/plain": [
       "1.0"
      ]
     },
     "execution_count": 40,
     "metadata": {},
     "output_type": "execute_result"
    }
   ],
   "source": [
    "sigmoid(200)"
   ]
  },
  {
   "cell_type": "code",
   "execution_count": 41,
   "id": "4f76f1da",
   "metadata": {},
   "outputs": [
    {
     "data": {
      "text/plain": [
       "1.3838965267367376e-87"
      ]
     },
     "execution_count": 41,
     "metadata": {},
     "output_type": "execute_result"
    }
   ],
   "source": [
    "sigmoid(-200)"
   ]
  },
  {
   "cell_type": "code",
   "execution_count": 42,
   "id": "022f33e8",
   "metadata": {},
   "outputs": [
    {
     "data": {
      "text/plain": [
       "0.8807970779778823"
      ]
     },
     "execution_count": 42,
     "metadata": {},
     "output_type": "execute_result"
    }
   ],
   "source": [
    "sigmoid(2)"
   ]
  },
  {
   "cell_type": "code",
   "execution_count": 43,
   "id": "cd6aa2d3",
   "metadata": {},
   "outputs": [],
   "source": [
    "import matplotlib.pyplot as plt"
   ]
  },
  {
   "cell_type": "code",
   "execution_count": 53,
   "id": "84683556",
   "metadata": {},
   "outputs": [
    {
     "name": "stderr",
     "output_type": "stream",
     "text": [
      "<ipython-input-39-e4d775f2456b>:1: RuntimeWarning: overflow encountered in exp\n",
      "  sigmoid = lambda y: 1/(1+np.exp(-y))\n"
     ]
    },
    {
     "data": {
      "text/plain": [
       "[<matplotlib.lines.Line2D at 0x22600027b80>]"
      ]
     },
     "execution_count": 53,
     "metadata": {},
     "output_type": "execute_result"
    },
    {
     "data": {
      "image/png": "[encoded data removed]",
      "text/plain": [
       "<Figure size 432x288 with 1 Axes>"
      ]
     },
     "metadata": {
      "needs_background": "light"
     },
     "output_type": "display_data"
    }
   ],
   "source": [
    "x=np.arange(-10000, 10000, 1)\n",
    "y = [sigmoid(i) for i in x]\n",
    "\n",
    "plt.title(\"La fonction sigmoïd\")\n",
    "plt.plot(x, y)"
   ]
  },
  {
   "cell_type": "markdown",
   "id": "efa7582e",
   "metadata": {},
   "source": [
    "## La fonction tanh"
   ]
  },
  {
   "cell_type": "code",
   "execution_count": 54,
   "id": "595e3dab",
   "metadata": {},
   "outputs": [],
   "source": [
    "tanh = lambda y: (np.exp(y)-np.exp(-y))/(np.exp(y)+np.exp(-y))"
   ]
  },
  {
   "cell_type": "code",
   "execution_count": 55,
   "id": "1e001e01",
   "metadata": {},
   "outputs": [
    {
     "data": {
      "text/plain": [
       "-1.0"
      ]
     },
     "execution_count": 55,
     "metadata": {},
     "output_type": "execute_result"
    }
   ],
   "source": [
    "tanh(-56)"
   ]
  },
  {
   "cell_type": "code",
   "execution_count": 56,
   "id": "b891c92d",
   "metadata": {},
   "outputs": [
    {
     "name": "stderr",
     "output_type": "stream",
     "text": [
      "<ipython-input-54-5bd75e6fc5af>:1: RuntimeWarning: overflow encountered in exp\n",
      "  tanh = lambda y: (np.exp(y)-np.exp(-y))/(np.exp(y)+np.exp(-y))\n",
      "<ipython-input-54-5bd75e6fc5af>:1: RuntimeWarning: invalid value encountered in double_scalars\n",
      "  tanh = lambda y: (np.exp(y)-np.exp(-y))/(np.exp(y)+np.exp(-y))\n"
     ]
    }
   ],
   "source": [
    "y2 = [tanh(i) for i in x]"
   ]
  },
  {
   "cell_type": "code",
   "execution_count": 57,
   "id": "82a68b1b",
   "metadata": {},
   "outputs": [
    {
     "data": {
      "text/plain": [
       "[<matplotlib.lines.Line2D at 0x2266a29bbb0>]"
      ]
     },
     "execution_count": 57,
     "metadata": {},
     "output_type": "execute_result"
    },
    {
     "data": {
      "image/png": "[encoded data removed]",
      "text/plain": [
       "<Figure size 432x288 with 1 Axes>"
      ]
     },
     "metadata": {
      "needs_background": "light"
     },
     "output_type": "display_data"
    }
   ],
   "source": [
    "plt.title(\"La fonction tanh\")\n",
    "plt.plot(x, y2)"
   ]
  },
  {
   "cell_type": "code",
   "execution_count": null,
   "id": "05dc5040",
   "metadata": {},
   "outputs": [],
   "source": []
  }
 ],
 "metadata": {
  "kernelspec": {
   "display_name": "Python 3",
   "language": "python",
   "name": "python3"
  },
  "language_info": {
   "codemirror_mode": {
    "name": "ipython",
    "version": 3
   },
   "file_extension": ".py",
   "mimetype": "text/x-python",
   "name": "python",
   "nbconvert_exporter": "python",
   "pygments_lexer": "ipython3",
   "version": "3.8.5"
  }
 },
 "nbformat": 4,
 "nbformat_minor": 5
}
