{
 "cells": [
  {
   "cell_type": "markdown",
   "id": "94e67df6",
   "metadata": {},
   "source": [
    "# Les bases de Tensorflow Keras"
   ]
  },
  {
   "cell_type": "markdown",
   "id": "92ff9ee5",
   "metadata": {},
   "source": [
    "Étant donné l'âge d'une personne, proposez une fonction qui peut prédire si la personne achètera une assurance ou non"
   ]
  },
  {
   "cell_type": "code",
   "execution_count": 3,
   "id": "b643432c",
   "metadata": {},
   "outputs": [],
   "source": [
    "%matplotlib inline\n",
    "import matplotlib.pyplot as plt\n",
    "import numpy as np\n",
    "import pandas as pd"
   ]
  },
  {
   "cell_type": "code",
   "execution_count": 4,
   "id": "889c0bb9",
   "metadata": {},
   "outputs": [],
   "source": [
    "plt.style.use('ggplot')"
   ]
  },
  {
   "cell_type": "code",
   "execution_count": 5,
   "id": "15fc632c",
   "metadata": {},
   "outputs": [],
   "source": [
    "data = {\n",
    "    'age': [22, 25, 47, 52, 46, 56, 55, 60, 62, 61, 18, 28, 27, 29, 49],\n",
    "    'have_insurance': [0, 0, 1, 0, 1, 1,0, 1, 1, 1, 0, 0, 0 , 0, 1]\n",
    "}\n",
    "data = pd.DataFrame(data)"
   ]
  },
  {
   "cell_type": "code",
   "execution_count": 8,
   "id": "8fed3411",
   "metadata": {},
   "outputs": [],
   "source": [
    "data.to_csv('./../data/insurance.csv', index=False, index_label=False)"
   ]
  },
  {
   "cell_type": "code",
   "execution_count": 94,
   "id": "35c9d7b8",
   "metadata": {},
   "outputs": [
    {
     "data": {
      "text/html": [
       "<div>\n",
       "<style scoped>\n",
       "    .dataframe tbody tr th:only-of-type {\n",
       "        vertical-align: middle;\n",
       "    }\n",
       "\n",
       "    .dataframe tbody tr th {\n",
       "        vertical-align: top;\n",
       "    }\n",
       "\n",
       "    .dataframe thead th {\n",
       "        text-align: right;\n",
       "    }\n",
       "</style>\n",
       "<table border=\"1\" class=\"dataframe\">\n",
       "  <thead>\n",
       "    <tr style=\"text-align: right;\">\n",
       "      <th></th>\n",
       "      <th>age</th>\n",
       "      <th>have_insurance</th>\n",
       "    </tr>\n",
       "  </thead>\n",
       "  <tbody>\n",
       "    <tr>\n",
       "      <th>0</th>\n",
       "      <td>22</td>\n",
       "      <td>0</td>\n",
       "    </tr>\n",
       "    <tr>\n",
       "      <th>1</th>\n",
       "      <td>25</td>\n",
       "      <td>0</td>\n",
       "    </tr>\n",
       "    <tr>\n",
       "      <th>2</th>\n",
       "      <td>47</td>\n",
       "      <td>1</td>\n",
       "    </tr>\n",
       "    <tr>\n",
       "      <th>3</th>\n",
       "      <td>52</td>\n",
       "      <td>0</td>\n",
       "    </tr>\n",
       "    <tr>\n",
       "      <th>4</th>\n",
       "      <td>46</td>\n",
       "      <td>1</td>\n",
       "    </tr>\n",
       "    <tr>\n",
       "      <th>5</th>\n",
       "      <td>56</td>\n",
       "      <td>1</td>\n",
       "    </tr>\n",
       "    <tr>\n",
       "      <th>6</th>\n",
       "      <td>55</td>\n",
       "      <td>0</td>\n",
       "    </tr>\n",
       "    <tr>\n",
       "      <th>7</th>\n",
       "      <td>60</td>\n",
       "      <td>1</td>\n",
       "    </tr>\n",
       "    <tr>\n",
       "      <th>8</th>\n",
       "      <td>62</td>\n",
       "      <td>1</td>\n",
       "    </tr>\n",
       "    <tr>\n",
       "      <th>9</th>\n",
       "      <td>61</td>\n",
       "      <td>1</td>\n",
       "    </tr>\n",
       "    <tr>\n",
       "      <th>10</th>\n",
       "      <td>18</td>\n",
       "      <td>0</td>\n",
       "    </tr>\n",
       "    <tr>\n",
       "      <th>11</th>\n",
       "      <td>28</td>\n",
       "      <td>0</td>\n",
       "    </tr>\n",
       "    <tr>\n",
       "      <th>12</th>\n",
       "      <td>27</td>\n",
       "      <td>0</td>\n",
       "    </tr>\n",
       "    <tr>\n",
       "      <th>13</th>\n",
       "      <td>29</td>\n",
       "      <td>0</td>\n",
       "    </tr>\n",
       "    <tr>\n",
       "      <th>14</th>\n",
       "      <td>49</td>\n",
       "      <td>1</td>\n",
       "    </tr>\n",
       "  </tbody>\n",
       "</table>\n",
       "</div>"
      ],
      "text/plain": [
       "    age  have_insurance\n",
       "0    22               0\n",
       "1    25               0\n",
       "2    47               1\n",
       "3    52               0\n",
       "4    46               1\n",
       "5    56               1\n",
       "6    55               0\n",
       "7    60               1\n",
       "8    62               1\n",
       "9    61               1\n",
       "10   18               0\n",
       "11   28               0\n",
       "12   27               0\n",
       "13   29               0\n",
       "14   49               1"
      ]
     },
     "execution_count": 94,
     "metadata": {},
     "output_type": "execute_result"
    }
   ],
   "source": [
    "df = pd.read_csv('./../data/insurance.csv')\n",
    "df"
   ]
  },
  {
   "cell_type": "code",
   "execution_count": 19,
   "id": "a4d2397c",
   "metadata": {},
   "outputs": [
    {
     "data": {
      "text/plain": [
       "<AxesSubplot:xlabel='age', ylabel='have_insurance'>"
      ]
     },
     "execution_count": 19,
     "metadata": {},
     "output_type": "execute_result"
    },
    {
     "data": {
      "image/png": "[encoded data removed]",
      "text/plain": [
       "<Figure size 432x288 with 1 Axes>"
      ]
     },
     "metadata": {},
     "output_type": "display_data"
    }
   ],
   "source": [
    "df.plot(kind=\"scatter\", x='age', y='have_insurance', c='r')"
   ]
  },
  {
   "cell_type": "code",
   "execution_count": 36,
   "id": "0c85ec98",
   "metadata": {},
   "outputs": [],
   "source": [
    "def a(data):\n",
    "    num = np.sum((data.have_insurance - np.mean(data.have_insurance))*(data.age-np.mean(df.age)))\n",
    "    deno = np.sum((df.age - np.mean(df.age))**2)\n",
    "    \n",
    "    return num/deno"
   ]
  },
  {
   "cell_type": "code",
   "execution_count": 39,
   "id": "1a6e162e",
   "metadata": {},
   "outputs": [],
   "source": [
    "a = a(df)\n",
    "b = np.mean(df.have_insurance) - a*np.mean(df.age)"
   ]
  },
  {
   "cell_type": "code",
   "execution_count": 133,
   "id": "90569a1d",
   "metadata": {},
   "outputs": [],
   "source": [
    "y = lambda x: a*x + b"
   ]
  },
  {
   "cell_type": "code",
   "execution_count": 134,
   "id": "0dc64304",
   "metadata": {},
   "outputs": [
    {
     "data": {
      "text/plain": [
       "<matplotlib.collections.PathCollection at 0x27c11bc7dc0>"
      ]
     },
     "execution_count": 134,
     "metadata": {},
     "output_type": "execute_result"
    },
    {
     "data": {
      "image/png": "[encoded data removed]",
      "text/plain": [
       "<Figure size 720x288 with 1 Axes>"
      ]
     },
     "metadata": {},
     "output_type": "display_data"
    }
   ],
   "source": [
    "plt.figure(figsize=(10, 4))\n",
    "plt.plot( df.age, y(df.age), c='b')\n",
    "plt.scatter(x=df['age'], y=df['have_insurance'], c='r')"
   ]
  },
  {
   "cell_type": "markdown",
   "id": "740b036a",
   "metadata": {},
   "source": [
    "## Determination de la fonction sigmoïde"
   ]
  },
  {
   "cell_type": "code",
   "execution_count": 135,
   "id": "c810a9f0",
   "metadata": {},
   "outputs": [],
   "source": [
    "sigmoid = lambda y: np.round(1/(1 + np.exp(1)**(-y)))"
   ]
  },
  {
   "cell_type": "code",
   "execution_count": 136,
   "id": "9a257a0f",
   "metadata": {},
   "outputs": [
    {
     "data": {
      "image/png": "[encoded data removed]",
      "text/plain": [
       "<Figure size 720x288 with 1 Axes>"
      ]
     },
     "metadata": {},
     "output_type": "display_data"
    }
   ],
   "source": [
    "plt.figure(figsize=(10, 4))\n",
    "plt.plot( df.age, sigmoid(y(df.age)), c='b')\n",
    "plt.scatter(x=df['age'], y=df['have_insurance'], c='r');"
   ]
  },
  {
   "cell_type": "code",
   "execution_count": 129,
   "id": "e33005a6",
   "metadata": {},
   "outputs": [
    {
     "data": {
      "text/plain": [
       "0.023980449060638464"
      ]
     },
     "execution_count": 129,
     "metadata": {},
     "output_type": "execute_result"
    }
   ],
   "source": [
    "np.arange(1, 45, 0.3);\n",
    "a"
   ]
  },
  {
   "cell_type": "markdown",
   "id": "d07a90cf",
   "metadata": {},
   "source": [
    "##### "
   ]
  },
  {
   "cell_type": "code",
   "execution_count": 130,
   "id": "e36e4be8",
   "metadata": {},
   "outputs": [
    {
     "data": {
      "text/plain": [
       "-0.5517030701084468"
      ]
     },
     "execution_count": 130,
     "metadata": {},
     "output_type": "execute_result"
    }
   ],
   "source": [
    "b"
   ]
  },
  {
   "cell_type": "code",
   "execution_count": 142,
   "id": "2d52699b",
   "metadata": {},
   "outputs": [
    {
     "data": {
      "text/plain": [
       "1.0"
      ]
     },
     "execution_count": 142,
     "metadata": {},
     "output_type": "execute_result"
    }
   ],
   "source": [
    "np.round(0.53)"
   ]
  },
  {
   "cell_type": "code",
   "execution_count": null,
   "id": "f8e9250b",
   "metadata": {},
   "outputs": [],
   "source": []
  },
  {
   "cell_type": "code",
   "execution_count": null,
   "id": "c1a2f4bc",
   "metadata": {},
   "outputs": [],
   "source": []
  }
 ],
 "metadata": {
  "kernelspec": {
   "display_name": "Python 3",
   "language": "python",
   "name": "python3"
  },
  "language_info": {
   "codemirror_mode": {
    "name": "ipython",
    "version": 3
   },
   "file_extension": ".py",
   "mimetype": "text/x-python",
   "name": "python",
   "nbconvert_exporter": "python",
   "pygments_lexer": "ipython3",
   "version": "3.8.5"
  }
 },
 "nbformat": 4,
 "nbformat_minor": 5
}
