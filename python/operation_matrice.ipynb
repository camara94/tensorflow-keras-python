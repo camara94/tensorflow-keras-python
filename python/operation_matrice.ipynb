{
 "cells": [
  {
   "cell_type": "markdown",
   "id": "302fa063",
   "metadata": {},
   "source": [
    "# Quelques Opérations sur les matrices en Python"
   ]
  },
  {
   "cell_type": "markdown",
   "id": "c7e4d1c4",
   "metadata": {},
   "source": [
    "## Importation des Packages"
   ]
  },
  {
   "cell_type": "code",
   "execution_count": 1,
   "id": "31864240",
   "metadata": {},
   "outputs": [],
   "source": [
    "%matplotlib inline"
   ]
  },
  {
   "cell_type": "code",
   "execution_count": 2,
   "id": "e9eb05ec",
   "metadata": {},
   "outputs": [],
   "source": [
    "import matplotlib.pyplot as plt\n",
    "import seaborn as sns\n",
    "import pandas as pd\n",
    "import numpy as np\n",
    "plt.style.use('ggplot')"
   ]
  },
  {
   "cell_type": "code",
   "execution_count": 14,
   "id": "6459ea40",
   "metadata": {},
   "outputs": [],
   "source": [
    "revenu.to_csv??"
   ]
  },
  {
   "cell_type": "markdown",
   "id": "9a2804f0",
   "metadata": {},
   "source": [
    "## Dataset Revenu"
   ]
  },
  {
   "cell_type": "code",
   "execution_count": 27,
   "id": "54e8c525",
   "metadata": {},
   "outputs": [
    {
     "data": {
      "text/html": [
       "<div>\n",
       "<style scoped>\n",
       "    .dataframe tbody tr th:only-of-type {\n",
       "        vertical-align: middle;\n",
       "    }\n",
       "\n",
       "    .dataframe tbody tr th {\n",
       "        vertical-align: top;\n",
       "    }\n",
       "\n",
       "    .dataframe thead th {\n",
       "        text-align: right;\n",
       "    }\n",
       "</style>\n",
       "<table border=\"1\" class=\"dataframe\">\n",
       "  <thead>\n",
       "    <tr style=\"text-align: right;\">\n",
       "      <th></th>\n",
       "      <th>FY 2018</th>\n",
       "      <th>FY 2019</th>\n",
       "      <th>FY 2020</th>\n",
       "    </tr>\n",
       "    <tr>\n",
       "      <th>modele</th>\n",
       "      <th></th>\n",
       "      <th></th>\n",
       "      <th></th>\n",
       "    </tr>\n",
       "  </thead>\n",
       "  <tbody>\n",
       "    <tr>\n",
       "      <th>iPhone</th>\n",
       "      <td>180</td>\n",
       "      <td>200</td>\n",
       "      <td>220</td>\n",
       "    </tr>\n",
       "    <tr>\n",
       "      <th>iPad</th>\n",
       "      <td>24</td>\n",
       "      <td>36</td>\n",
       "      <td>40</td>\n",
       "    </tr>\n",
       "    <tr>\n",
       "      <th>Mac</th>\n",
       "      <td>12</td>\n",
       "      <td>18</td>\n",
       "      <td>20</td>\n",
       "    </tr>\n",
       "  </tbody>\n",
       "</table>\n",
       "</div>"
      ],
      "text/plain": [
       "        FY 2018  FY 2019  FY 2020\n",
       "modele                           \n",
       "iPhone      180      200      220\n",
       "iPad         24       36       40\n",
       "Mac          12       18       20"
      ]
     },
     "execution_count": 27,
     "metadata": {},
     "output_type": "execute_result"
    }
   ],
   "source": [
    "tab_revenu = {'FY 2018': [180, 24, 12], 'FY 2019': [200, 36, 18], 'FY 2020': [220, 40, 20]}\n",
    "\n",
    "revenu = pd.DataFrame(tab_revenu, index=['iPhone', 'iPad', 'Mac'])\n",
    "revenu.to_csv('./../data/revenu.csv', index=True, index_label=['modele'] )\n",
    "revenu = pd.read_csv('./../data/revenu.csv', index_col='modele')\n",
    "revenu.head()"
   ]
  },
  {
   "cell_type": "markdown",
   "id": "5bb87f0d",
   "metadata": {},
   "source": [
    "## Dataset Profit"
   ]
  },
  {
   "cell_type": "code",
   "execution_count": 29,
   "id": "867a5caf",
   "metadata": {},
   "outputs": [
    {
     "data": {
      "text/html": [
       "<div>\n",
       "<style scoped>\n",
       "    .dataframe tbody tr th:only-of-type {\n",
       "        vertical-align: middle;\n",
       "    }\n",
       "\n",
       "    .dataframe tbody tr th {\n",
       "        vertical-align: top;\n",
       "    }\n",
       "\n",
       "    .dataframe thead th {\n",
       "        text-align: right;\n",
       "    }\n",
       "</style>\n",
       "<table border=\"1\" class=\"dataframe\">\n",
       "  <thead>\n",
       "    <tr style=\"text-align: right;\">\n",
       "      <th></th>\n",
       "      <th>FY 2018</th>\n",
       "      <th>FY 2019</th>\n",
       "      <th>FY 2020</th>\n",
       "    </tr>\n",
       "    <tr>\n",
       "      <th>modele</th>\n",
       "      <th></th>\n",
       "      <th></th>\n",
       "      <th></th>\n",
       "    </tr>\n",
       "  </thead>\n",
       "  <tbody>\n",
       "    <tr>\n",
       "      <th>iPhone</th>\n",
       "      <td>100</td>\n",
       "      <td>110</td>\n",
       "      <td>120</td>\n",
       "    </tr>\n",
       "    <tr>\n",
       "      <th>iPad</th>\n",
       "      <td>14</td>\n",
       "      <td>20</td>\n",
       "      <td>20</td>\n",
       "    </tr>\n",
       "    <tr>\n",
       "      <th>Mac</th>\n",
       "      <td>4</td>\n",
       "      <td>8</td>\n",
       "      <td>10</td>\n",
       "    </tr>\n",
       "  </tbody>\n",
       "</table>\n",
       "</div>"
      ],
      "text/plain": [
       "        FY 2018  FY 2019  FY 2020\n",
       "modele                           \n",
       "iPhone      100      110      120\n",
       "iPad         14       20       20\n",
       "Mac           4        8       10"
      ]
     },
     "execution_count": 29,
     "metadata": {},
     "output_type": "execute_result"
    }
   ],
   "source": [
    "tab_profit = {'FY 2018': [100, 14, 4], 'FY 2019': [110, 20, 8], 'FY 2020': [120, 20, 10]}\n",
    "\n",
    "profit = pd.DataFrame(tab_profit, index=['iPhone', 'iPad', 'Mac'])\n",
    "profit.to_csv('./../data/profit.csv', index=True, index_label=['modele'] )\n",
    "profit = pd.read_csv('./../data/profit.csv', index_col='modele')\n",
    "profit.head()"
   ]
  },
  {
   "cell_type": "markdown",
   "id": "8fc423ef",
   "metadata": {},
   "source": [
    "## Dataset Expenses"
   ]
  },
  {
   "cell_type": "code",
   "execution_count": 35,
   "id": "f73eb403",
   "metadata": {},
   "outputs": [
    {
     "data": {
      "text/html": [
       "<div>\n",
       "<style scoped>\n",
       "    .dataframe tbody tr th:only-of-type {\n",
       "        vertical-align: middle;\n",
       "    }\n",
       "\n",
       "    .dataframe tbody tr th {\n",
       "        vertical-align: top;\n",
       "    }\n",
       "\n",
       "    .dataframe thead th {\n",
       "        text-align: right;\n",
       "    }\n",
       "</style>\n",
       "<table border=\"1\" class=\"dataframe\">\n",
       "  <thead>\n",
       "    <tr style=\"text-align: right;\">\n",
       "      <th></th>\n",
       "      <th>FY 2018</th>\n",
       "      <th>FY 2019</th>\n",
       "      <th>FY 2020</th>\n",
       "    </tr>\n",
       "    <tr>\n",
       "      <th>modele</th>\n",
       "      <th></th>\n",
       "      <th></th>\n",
       "      <th></th>\n",
       "    </tr>\n",
       "  </thead>\n",
       "  <tbody>\n",
       "    <tr>\n",
       "      <th>iPhone</th>\n",
       "      <td>100</td>\n",
       "      <td>110</td>\n",
       "      <td>120</td>\n",
       "    </tr>\n",
       "    <tr>\n",
       "      <th>iPad</th>\n",
       "      <td>14</td>\n",
       "      <td>20</td>\n",
       "      <td>20</td>\n",
       "    </tr>\n",
       "    <tr>\n",
       "      <th>Mac</th>\n",
       "      <td>4</td>\n",
       "      <td>8</td>\n",
       "      <td>10</td>\n",
       "    </tr>\n",
       "  </tbody>\n",
       "</table>\n",
       "</div>"
      ],
      "text/plain": [
       "        FY 2018  FY 2019  FY 2020\n",
       "modele                           \n",
       "iPhone      100      110      120\n",
       "iPad         14       20       20\n",
       "Mac           4        8       10"
      ]
     },
     "execution_count": 35,
     "metadata": {},
     "output_type": "execute_result"
    }
   ],
   "source": [
    "expenses = revenu-profit\n",
    "expenses.to_csv('./../data/expenses.csv')\n",
    "expenses = pd.read_csv('./../data/profit.csv', index_col='modele')\n",
    "expenses.head()"
   ]
  },
  {
   "cell_type": "markdown",
   "id": "55c78acb",
   "metadata": {},
   "source": [
    "## Dataset Unit"
   ]
  },
  {
   "cell_type": "code",
   "execution_count": 38,
   "id": "72077be6",
   "metadata": {},
   "outputs": [
    {
     "data": {
      "text/html": [
       "<div>\n",
       "<style scoped>\n",
       "    .dataframe tbody tr th:only-of-type {\n",
       "        vertical-align: middle;\n",
       "    }\n",
       "\n",
       "    .dataframe tbody tr th {\n",
       "        vertical-align: top;\n",
       "    }\n",
       "\n",
       "    .dataframe thead th {\n",
       "        text-align: right;\n",
       "    }\n",
       "</style>\n",
       "<table border=\"1\" class=\"dataframe\">\n",
       "  <thead>\n",
       "    <tr style=\"text-align: right;\">\n",
       "      <th></th>\n",
       "      <th>FY 2018</th>\n",
       "      <th>FY 2019</th>\n",
       "      <th>FY 2020</th>\n",
       "    </tr>\n",
       "    <tr>\n",
       "      <th>modele</th>\n",
       "      <th></th>\n",
       "      <th></th>\n",
       "      <th></th>\n",
       "    </tr>\n",
       "  </thead>\n",
       "  <tbody>\n",
       "    <tr>\n",
       "      <th>iPhone</th>\n",
       "      <td>30</td>\n",
       "      <td>40</td>\n",
       "      <td>50</td>\n",
       "    </tr>\n",
       "    <tr>\n",
       "      <th>iPad</th>\n",
       "      <td>5</td>\n",
       "      <td>10</td>\n",
       "      <td>15</td>\n",
       "    </tr>\n",
       "    <tr>\n",
       "      <th>Mac</th>\n",
       "      <td>2</td>\n",
       "      <td>5</td>\n",
       "      <td>7</td>\n",
       "    </tr>\n",
       "  </tbody>\n",
       "</table>\n",
       "</div>"
      ],
      "text/plain": [
       "        FY 2018  FY 2019  FY 2020\n",
       "modele                           \n",
       "iPhone       30       40       50\n",
       "iPad          5       10       15\n",
       "Mac           2        5        7"
      ]
     },
     "execution_count": 38,
     "metadata": {},
     "output_type": "execute_result"
    }
   ],
   "source": [
    "tab_units = {'FY 2018': [30, 5, 2], 'FY 2019': [40, 10, 5], 'FY 2020': [50, 15, 7]}\n",
    "\n",
    "units = pd.DataFrame(tab_units, index=['iPhone', 'iPad', 'Mac'])\n",
    "units.to_csv('./../data/units.csv', index=True, index_label=['modele'] )\n",
    "units = pd.read_csv('./../data/units.csv', index_col='modele')\n",
    "units.head()"
   ]
  },
  {
   "cell_type": "markdown",
   "id": "998f4ca4",
   "metadata": {},
   "source": [
    "## Dataset Prix Unitaire"
   ]
  },
  {
   "cell_type": "code",
   "execution_count": 41,
   "id": "1f4d91c6",
   "metadata": {},
   "outputs": [
    {
     "data": {
      "text/html": [
       "<div>\n",
       "<style scoped>\n",
       "    .dataframe tbody tr th:only-of-type {\n",
       "        vertical-align: middle;\n",
       "    }\n",
       "\n",
       "    .dataframe tbody tr th {\n",
       "        vertical-align: top;\n",
       "    }\n",
       "\n",
       "    .dataframe thead th {\n",
       "        text-align: right;\n",
       "    }\n",
       "</style>\n",
       "<table border=\"1\" class=\"dataframe\">\n",
       "  <thead>\n",
       "    <tr style=\"text-align: right;\">\n",
       "      <th></th>\n",
       "      <th>iPhone</th>\n",
       "      <th>iPad</th>\n",
       "      <th>Mac</th>\n",
       "    </tr>\n",
       "    <tr>\n",
       "      <th>unit</th>\n",
       "      <th></th>\n",
       "      <th></th>\n",
       "      <th></th>\n",
       "    </tr>\n",
       "  </thead>\n",
       "  <tbody>\n",
       "    <tr>\n",
       "      <th>Prix par</th>\n",
       "      <td>1000</td>\n",
       "      <td>400</td>\n",
       "      <td>1200</td>\n",
       "    </tr>\n",
       "  </tbody>\n",
       "</table>\n",
       "</div>"
      ],
      "text/plain": [
       "          iPhone  iPad   Mac\n",
       "unit                        \n",
       "Prix par    1000   400  1200"
      ]
     },
     "execution_count": 41,
     "metadata": {},
     "output_type": "execute_result"
    }
   ],
   "source": [
    "dict_unit_price = {'iPhone': [1000], 'iPad': [400], 'Mac': [1200]}\n",
    "\n",
    "unit_price = pd.DataFrame(dict_unit_price, index=['Prix par'])\n",
    "unit_price.to_csv('./../data/unit_price.csv', index=True, index_label=['unit'] )\n",
    "unit_price = pd.read_csv('./../data/unit_price.csv', index_col='unit')\n",
    "unit_price.head()"
   ]
  },
  {
   "cell_type": "markdown",
   "id": "ce7ad712",
   "metadata": {},
   "source": [
    "## Prix de Vente par Modèle en dollar"
   ]
  },
  {
   "cell_type": "code",
   "execution_count": 52,
   "id": "02c3753a",
   "metadata": {},
   "outputs": [
    {
     "data": {
      "text/html": [
       "<div>\n",
       "<style scoped>\n",
       "    .dataframe tbody tr th:only-of-type {\n",
       "        vertical-align: middle;\n",
       "    }\n",
       "\n",
       "    .dataframe tbody tr th {\n",
       "        vertical-align: top;\n",
       "    }\n",
       "\n",
       "    .dataframe thead th {\n",
       "        text-align: right;\n",
       "    }\n",
       "</style>\n",
       "<table border=\"1\" class=\"dataframe\">\n",
       "  <thead>\n",
       "    <tr style=\"text-align: right;\">\n",
       "      <th></th>\n",
       "      <th>FY 2018</th>\n",
       "      <th>FY 2019</th>\n",
       "      <th>FY 2020</th>\n",
       "    </tr>\n",
       "  </thead>\n",
       "  <tbody>\n",
       "    <tr>\n",
       "      <th>0</th>\n",
       "      <td>34400</td>\n",
       "      <td>50000</td>\n",
       "      <td>64400</td>\n",
       "    </tr>\n",
       "  </tbody>\n",
       "</table>\n",
       "</div>"
      ],
      "text/plain": [
       "   FY 2018  FY 2019  FY 2020\n",
       "0    34400    50000    64400"
      ]
     },
     "execution_count": 52,
     "metadata": {},
     "output_type": "execute_result"
    }
   ],
   "source": [
    "price_per_modele = unit_price.dot(units)\n",
    "price_per_modele.reset_index(drop=True, inplace=True)\n",
    "price_per_modele"
   ]
  },
  {
   "cell_type": "code",
   "execution_count": 57,
   "id": "d65a8da8",
   "metadata": {},
   "outputs": [],
   "source": [
    "price_per_modele.to_csv('./../data/price_per_modele.csv', index=False, index_label=False)"
   ]
  },
  {
   "cell_type": "code",
   "execution_count": 60,
   "id": "a1b96070",
   "metadata": {},
   "outputs": [
    {
     "data": {
      "text/html": [
       "<div>\n",
       "<style scoped>\n",
       "    .dataframe tbody tr th:only-of-type {\n",
       "        vertical-align: middle;\n",
       "    }\n",
       "\n",
       "    .dataframe tbody tr th {\n",
       "        vertical-align: top;\n",
       "    }\n",
       "\n",
       "    .dataframe thead th {\n",
       "        text-align: right;\n",
       "    }\n",
       "</style>\n",
       "<table border=\"1\" class=\"dataframe\">\n",
       "  <thead>\n",
       "    <tr style=\"text-align: right;\">\n",
       "      <th></th>\n",
       "      <th>FY 2018</th>\n",
       "      <th>FY 2019</th>\n",
       "      <th>FY 2020</th>\n",
       "    </tr>\n",
       "  </thead>\n",
       "  <tbody>\n",
       "    <tr>\n",
       "      <th>0</th>\n",
       "      <td>34400</td>\n",
       "      <td>50000</td>\n",
       "      <td>64400</td>\n",
       "    </tr>\n",
       "  </tbody>\n",
       "</table>\n",
       "</div>"
      ],
      "text/plain": [
       "   FY 2018  FY 2019  FY 2020\n",
       "0    34400    50000    64400"
      ]
     },
     "execution_count": 60,
     "metadata": {},
     "output_type": "execute_result"
    }
   ],
   "source": [
    "price_per_modele = pd.read_csv('./../data/price_per_modele.csv')\n",
    "price_per_modele.head()"
   ]
  },
  {
   "cell_type": "code",
   "execution_count": null,
   "id": "a7c3cb27",
   "metadata": {},
   "outputs": [],
   "source": []
  }
 ],
 "metadata": {
  "kernelspec": {
   "display_name": "Python 3",
   "language": "python",
   "name": "python3"
  },
  "language_info": {
   "codemirror_mode": {
    "name": "ipython",
    "version": 3
   },
   "file_extension": ".py",
   "mimetype": "text/x-python",
   "name": "python",
   "nbconvert_exporter": "python",
   "pygments_lexer": "ipython3",
   "version": "3.8.5"
  }
 },
 "nbformat": 4,
 "nbformat_minor": 5
}
